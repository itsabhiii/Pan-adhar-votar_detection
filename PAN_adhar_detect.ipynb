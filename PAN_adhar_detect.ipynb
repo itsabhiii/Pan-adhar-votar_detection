{
 "cells": [
  {
   "cell_type": "code",
   "execution_count": 1,
   "metadata": {},
   "outputs": [],
   "source": [
    "import cv2 \n",
    "from PIL import Image\n",
    "import pytesseract\n",
    "key = cv2. waitKey(1)\n",
    "webcam = cv2.VideoCapture(0)\n",
    "#webcam = cv2.VideoCapture(1) #for Secondary camera\n",
    "while True:\n",
    "    try:\n",
    "        check, frame = webcam.read()\n",
    "        cv2.imshow(\"Capturing\", frame)\n",
    "        key = cv2.waitKey(1)\n",
    "        if key == ord('s'): \n",
    "            cv2.imwrite(filename='saved_img.jpg', img=frame)\n",
    "            webcam.release()\n",
    "            cv2.waitKey(1650)\n",
    "            cv2.destroyAllWindows()\n",
    "            break\n",
    "        elif key == ord('q'):\n",
    "            webcam.release()\n",
    "            cv2.destroyAllWindows()\n",
    "            break\n",
    "        \n",
    "    except(KeyboardInterrupt):\n",
    "        webcam.release()\n",
    "        cv2.destroyAllWindows()\n",
    "        break\n"
   ]
  },
  {
   "cell_type": "code",
   "execution_count": 2,
   "metadata": {},
   "outputs": [
    {
     "name": "stdout",
     "output_type": "stream",
     "text": [
      "Its a Driving License\n"
     ]
    }
   ],
   "source": [
    "pytesseract.pytesseract.tesseract_cmd = r'C:\\Program Files\\Tesseract-OCR\\tesseract.exe'\n",
    "im = Image.open('saved_img.jpg')\n",
    "\n",
    "'''\n",
    "#\"If its a pdf file\"\n",
    "#Poppler executable file is mandatory to load\n",
    "PDFTOPPMPATH = r\"C:\\Users\\Abhi\\poppler-0.68.0\\bin\\pdftoppm.exe\"\n",
    "PDFFILE = \"C:\\\\Users\\\\Abhi\\\\report.pdf\"\n",
    "\n",
    "subprocess.Popen('\"%s\" -png \"%s\" out' % (PDFTOPPMPATH, PDFFILE))\n",
    "\n",
    "im = Image.open(\"out.png\")\n",
    "rgb_im = im.convert('RGB')\n",
    "rgb_im.save('main.jpg')\n",
    "\n",
    "im = Image.open(\"main.jpg\")\n",
    "'''\n",
    "\n",
    "text = pytesseract.image_to_string(im, lang = 'eng')\n",
    "#print(text)\n",
    "if (text.find('GOVERNMENT OF INDIA') != -1): \n",
    "    print (\"Its a PANCARD\") \n",
    "elif (text.find('Driving Licence') != -1): \n",
    "    print (\"Its a Driving License\") \n",
    "\n"
   ]
  }
 ],
 "metadata": {
  "kernelspec": {
   "display_name": "Python 3",
   "language": "python",
   "name": "python3"
  },
  "language_info": {
   "codemirror_mode": {
    "name": "ipython",
    "version": 3
   },
   "file_extension": ".py",
   "mimetype": "text/x-python",
   "name": "python",
   "nbconvert_exporter": "python",
   "pygments_lexer": "ipython3",
   "version": "3.6.10"
  }
 },
 "nbformat": 4,
 "nbformat_minor": 4
}
